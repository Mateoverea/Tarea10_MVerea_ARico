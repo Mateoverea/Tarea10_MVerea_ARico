{
 "cells": [
  {
   "cell_type": "markdown",
   "metadata": {},
   "source": [
    "<img style=\"float: left; margin: 30px 15px 15px 15px;\" src=\"https://pngimage.net/wp-content/uploads/2018/06/logo-iteso-png-5.png\" width=\"300\" height=\"500\" /> \n",
    "    \n",
    "    \n",
    "### <font color='navy'> Simulación de procesos financieros\n",
    "\n",
    "**Nombres:**\n",
    "Mateo Verea Dorantes,\n",
    "Alejandra Rico Rosales\n",
    "\n",
    "**Fecha:** 26 de noviembre de 2021\n",
    "\n",
    "**Expediente** : \n",
    "    if709396, 720838\n",
    "    \n",
    "**Profesor:** Oscar David Jaramillo Zuluaga\n",
    "    \n",
    "**Link Github**:https://github.com/Mateoverea/Tarea10_MVerea_ARico\n",
    "    \n",
    "# Tarea 10"
   ]
  },
  {
   "cell_type": "markdown",
   "metadata": {},
   "source": [
    "Realizar la valuación de las opciones barrera para las acciones de Microsoft, siguiendo los siguientes lineamientos:\n",
    "1. Realizar la valuación para el tipo de opción barrera 'CALL'- down-and-out, usando la suposición de rendimientos normales y usando el método del histograma. Para ambas valuaciones, comparar los resultados de la evaluación obtenida con los resultados obtenidos por la valuación Europea. Como se realizó en clase.\n",
    "2. Repetir el inciso anterior pero en esta ocasión para el caso de 'PUT'- Up-and-out.\n",
    "\n",
    "**Nota:** Analice los datos descargados y según el método ya sea `down-and-out` o `Up-and-out` defina un strike price usando la volatility smile vista en la clase de opciones europeas y basado en el spot price y el strike defina una barrera adecuada."
   ]
  },
  {
   "cell_type": "code",
   "execution_count": 1,
   "metadata": {},
   "outputs": [],
   "source": [
    "#importar los paquetes que se van a usar\n",
    "import pandas as pd\n",
    "import pandas_datareader.data as web\n",
    "import numpy as np\n",
    "from sklearn.neighbors import KernelDensity\n",
    "import datetime\n",
    "from datetime import datetime, timedelta\n",
    "import scipy.stats as st\n",
    "import scipy as sp\n",
    "import scipy.optimize as optimize\n",
    "import scipy.cluster.hierarchy as hac\n",
    "import matplotlib.pyplot as plt\n",
    "import seaborn as sns\n",
    "%matplotlib inline\n",
    "#algunas opciones para Python\n",
    "pd.set_option('display.notebook_repr_html', True)\n",
    "pd.set_option('display.max_columns', 6)\n",
    "pd.set_option('display.max_rows', 10)\n",
    "pd.set_option('display.width', 78)\n",
    "pd.set_option('precision', 3)"
   ]
  },
  {
   "cell_type": "markdown",
   "metadata": {},
   "source": [
    "#### Código de solución `ESTUDIANTE 1: MATEO VEREA`"
   ]
  },
  {
   "cell_type": "code",
   "execution_count": null,
   "metadata": {},
   "outputs": [],
   "source": []
  },
  {
   "cell_type": "markdown",
   "metadata": {},
   "source": [
    "#### Código de solución `ESTUDIANTE 2: ALEJANDRA RICO`"
   ]
  },
  {
   "cell_type": "code",
   "execution_count": 21,
   "metadata": {},
   "outputs": [],
   "source": [
    "####### Calculation of log-returns\n",
    "def calc_daily_ret(closes):\n",
    "    return np.log(closes/closes.shift(1)).dropna()\n",
    "\n",
    "# Definir barrera\n",
    "\n",
    "def opciones_barrera(s, k, mu, sigma, expiry, bu = 0, bd = 0, n_sim = 10000):\n",
    "    \n",
    "    today = pd.Timestamp(date.today())\n",
    "    dates = pd.date_range(start = today, end = expiry, freq='B')\n",
    "    ndays = len(dates)\n",
    "    sim_ret = pd.DataFrame(sigma*np.random.randn(ndays,n_sim)+r,index=dates)\n",
    "    sim_closes = S0*np.exp(sim_ret.cumsum())\n",
    "    \n",
    "# 'CALL'- down-and-out\n",
    "# 'PUT'- up-and-out \n",
    "\n",
    "    # Calcular la prima de una opción Europea\n",
    "    call = pd.DataFrame({'Call Europea':np.exp(-r*ndays)*np.fmax(sim_closes - k, 0)\n",
    "                         .mean(axis=1)},index=dates)\n",
    "    put = pd.DataFrame({'Put Europea':np.exp(-r*ndays)*np.fmax(k - sim_closes, 0)\n",
    "                     .mean(axis=1)},index=dates)\n",
    "\n",
    "    # CALL OPTIONS \n",
    "    \n",
    "    I = (sim_closes < bd).cumsum(axis=0) == 0\n",
    "    calldo = pd.DataFrame({'Call down-and-out':np.exp(-r*ndays)*(I * np.fmax(sim_closes - k, 0))\n",
    "                       .mean(axis=1)},index=dates)   \n",
    "    \n",
    "       # PUT OPTIONS \n",
    "        \n",
    "    I = (sim_closes > bu).cumsum(axis=0) == 0\n",
    "    putuo = pd.DataFrame({'Put up-and-out':np.exp(-r*ndays)*(I * np.fmax(k - sim_closes, 0))\n",
    "                       .mean(axis=1)},index=dates)\n",
    "    \n",
    "      \n",
    "        \n",
    "    # Graficar el resultado de las dos primas previamente valuadas\n",
    "    ax = calldo.plot();\n",
    "    call.plot(ax=ax);\n",
    "    \n",
    "    ax = putuo.plot();\n",
    "    put.plot(ax=ax);"
   ]
  },
  {
   "cell_type": "code",
   "execution_count": 3,
   "metadata": {},
   "outputs": [
    {
     "name": "stdout",
     "output_type": "stream",
     "text": [
      "[*********************100%***********************]  1 of 1 completed\n"
     ]
    },
    {
     "data": {
      "text/html": [
       "<div>\n",
       "<style scoped>\n",
       "    .dataframe tbody tr th:only-of-type {\n",
       "        vertical-align: middle;\n",
       "    }\n",
       "\n",
       "    .dataframe tbody tr th {\n",
       "        vertical-align: top;\n",
       "    }\n",
       "\n",
       "    .dataframe thead th {\n",
       "        text-align: right;\n",
       "    }\n",
       "</style>\n",
       "<table border=\"1\" class=\"dataframe\">\n",
       "  <thead>\n",
       "    <tr style=\"text-align: right;\">\n",
       "      <th></th>\n",
       "      <th>Open</th>\n",
       "      <th>High</th>\n",
       "      <th>Low</th>\n",
       "      <th>Close</th>\n",
       "      <th>Adj Close</th>\n",
       "      <th>Volume</th>\n",
       "    </tr>\n",
       "    <tr>\n",
       "      <th>Date</th>\n",
       "      <th></th>\n",
       "      <th></th>\n",
       "      <th></th>\n",
       "      <th></th>\n",
       "      <th></th>\n",
       "      <th></th>\n",
       "    </tr>\n",
       "  </thead>\n",
       "  <tbody>\n",
       "    <tr>\n",
       "      <th>2017-01-03</th>\n",
       "      <td>62.79</td>\n",
       "      <td>62.84</td>\n",
       "      <td>62.13</td>\n",
       "      <td>62.58</td>\n",
       "      <td>58.186</td>\n",
       "      <td>20694100</td>\n",
       "    </tr>\n",
       "    <tr>\n",
       "      <th>2017-01-04</th>\n",
       "      <td>62.48</td>\n",
       "      <td>62.75</td>\n",
       "      <td>62.12</td>\n",
       "      <td>62.30</td>\n",
       "      <td>57.925</td>\n",
       "      <td>21340000</td>\n",
       "    </tr>\n",
       "    <tr>\n",
       "      <th>2017-01-05</th>\n",
       "      <td>62.19</td>\n",
       "      <td>62.66</td>\n",
       "      <td>62.03</td>\n",
       "      <td>62.30</td>\n",
       "      <td>57.925</td>\n",
       "      <td>24876000</td>\n",
       "    </tr>\n",
       "    <tr>\n",
       "      <th>2017-01-06</th>\n",
       "      <td>62.30</td>\n",
       "      <td>63.15</td>\n",
       "      <td>62.04</td>\n",
       "      <td>62.84</td>\n",
       "      <td>58.427</td>\n",
       "      <td>19922900</td>\n",
       "    </tr>\n",
       "    <tr>\n",
       "      <th>2017-01-09</th>\n",
       "      <td>62.76</td>\n",
       "      <td>63.08</td>\n",
       "      <td>62.54</td>\n",
       "      <td>62.64</td>\n",
       "      <td>58.241</td>\n",
       "      <td>20382700</td>\n",
       "    </tr>\n",
       "    <tr>\n",
       "      <th>...</th>\n",
       "      <td>...</td>\n",
       "      <td>...</td>\n",
       "      <td>...</td>\n",
       "      <td>...</td>\n",
       "      <td>...</td>\n",
       "      <td>...</td>\n",
       "    </tr>\n",
       "    <tr>\n",
       "      <th>2021-11-17</th>\n",
       "      <td>338.94</td>\n",
       "      <td>342.19</td>\n",
       "      <td>338.00</td>\n",
       "      <td>339.12</td>\n",
       "      <td>339.120</td>\n",
       "      <td>19053400</td>\n",
       "    </tr>\n",
       "    <tr>\n",
       "      <th>2021-11-18</th>\n",
       "      <td>338.18</td>\n",
       "      <td>342.45</td>\n",
       "      <td>337.12</td>\n",
       "      <td>341.27</td>\n",
       "      <td>341.270</td>\n",
       "      <td>22463500</td>\n",
       "    </tr>\n",
       "    <tr>\n",
       "      <th>2021-11-19</th>\n",
       "      <td>342.64</td>\n",
       "      <td>345.10</td>\n",
       "      <td>342.20</td>\n",
       "      <td>343.11</td>\n",
       "      <td>343.110</td>\n",
       "      <td>21942200</td>\n",
       "    </tr>\n",
       "    <tr>\n",
       "      <th>2021-11-22</th>\n",
       "      <td>344.62</td>\n",
       "      <td>349.67</td>\n",
       "      <td>339.55</td>\n",
       "      <td>339.83</td>\n",
       "      <td>339.830</td>\n",
       "      <td>31031100</td>\n",
       "    </tr>\n",
       "    <tr>\n",
       "      <th>2021-11-23</th>\n",
       "      <td>337.05</td>\n",
       "      <td>339.45</td>\n",
       "      <td>333.56</td>\n",
       "      <td>337.68</td>\n",
       "      <td>337.680</td>\n",
       "      <td>30412500</td>\n",
       "    </tr>\n",
       "  </tbody>\n",
       "</table>\n",
       "<p>1233 rows × 6 columns</p>\n",
       "</div>"
      ],
      "text/plain": [
       "              Open    High     Low   Close  Adj Close    Volume\n",
       "Date                                                           \n",
       "2017-01-03   62.79   62.84   62.13   62.58     58.186  20694100\n",
       "2017-01-04   62.48   62.75   62.12   62.30     57.925  21340000\n",
       "2017-01-05   62.19   62.66   62.03   62.30     57.925  24876000\n",
       "2017-01-06   62.30   63.15   62.04   62.84     58.427  19922900\n",
       "2017-01-09   62.76   63.08   62.54   62.64     58.241  20382700\n",
       "...            ...     ...     ...     ...        ...       ...\n",
       "2021-11-17  338.94  342.19  338.00  339.12    339.120  19053400\n",
       "2021-11-18  338.18  342.45  337.12  341.27    341.270  22463500\n",
       "2021-11-19  342.64  345.10  342.20  343.11    343.110  21942200\n",
       "2021-11-22  344.62  349.67  339.55  339.83    339.830  31031100\n",
       "2021-11-23  337.05  339.45  333.56  337.68    337.680  30412500\n",
       "\n",
       "[1233 rows x 6 columns]"
      ]
     },
     "execution_count": 3,
     "metadata": {},
     "output_type": "execute_result"
    }
   ],
   "source": [
    "import yfinance as yf\n",
    "data = yf.download('MSFT', start=\"2017-01-01\", end=\"2021-11-24\")\n",
    "data"
   ]
  },
  {
   "cell_type": "code",
   "execution_count": 4,
   "metadata": {},
   "outputs": [
    {
     "data": {
      "text/html": [
       "<div>\n",
       "<style scoped>\n",
       "    .dataframe tbody tr th:only-of-type {\n",
       "        vertical-align: middle;\n",
       "    }\n",
       "\n",
       "    .dataframe tbody tr th {\n",
       "        vertical-align: top;\n",
       "    }\n",
       "\n",
       "    .dataframe thead th {\n",
       "        text-align: right;\n",
       "    }\n",
       "</style>\n",
       "<table border=\"1\" class=\"dataframe\">\n",
       "  <thead>\n",
       "    <tr style=\"text-align: right;\">\n",
       "      <th></th>\n",
       "      <th>Adj Close</th>\n",
       "    </tr>\n",
       "    <tr>\n",
       "      <th>Date</th>\n",
       "      <th></th>\n",
       "    </tr>\n",
       "  </thead>\n",
       "  <tbody>\n",
       "    <tr>\n",
       "      <th>2017-01-03</th>\n",
       "      <td>58.186</td>\n",
       "    </tr>\n",
       "    <tr>\n",
       "      <th>2017-01-04</th>\n",
       "      <td>57.925</td>\n",
       "    </tr>\n",
       "    <tr>\n",
       "      <th>2017-01-05</th>\n",
       "      <td>57.925</td>\n",
       "    </tr>\n",
       "    <tr>\n",
       "      <th>2017-01-06</th>\n",
       "      <td>58.427</td>\n",
       "    </tr>\n",
       "    <tr>\n",
       "      <th>2017-01-09</th>\n",
       "      <td>58.241</td>\n",
       "    </tr>\n",
       "    <tr>\n",
       "      <th>...</th>\n",
       "      <td>...</td>\n",
       "    </tr>\n",
       "    <tr>\n",
       "      <th>2021-11-17</th>\n",
       "      <td>339.120</td>\n",
       "    </tr>\n",
       "    <tr>\n",
       "      <th>2021-11-18</th>\n",
       "      <td>341.270</td>\n",
       "    </tr>\n",
       "    <tr>\n",
       "      <th>2021-11-19</th>\n",
       "      <td>343.110</td>\n",
       "    </tr>\n",
       "    <tr>\n",
       "      <th>2021-11-22</th>\n",
       "      <td>339.830</td>\n",
       "    </tr>\n",
       "    <tr>\n",
       "      <th>2021-11-23</th>\n",
       "      <td>337.680</td>\n",
       "    </tr>\n",
       "  </tbody>\n",
       "</table>\n",
       "<p>1233 rows × 1 columns</p>\n",
       "</div>"
      ],
      "text/plain": [
       "            Adj Close\n",
       "Date                 \n",
       "2017-01-03     58.186\n",
       "2017-01-04     57.925\n",
       "2017-01-05     57.925\n",
       "2017-01-06     58.427\n",
       "2017-01-09     58.241\n",
       "...               ...\n",
       "2021-11-17    339.120\n",
       "2021-11-18    341.270\n",
       "2021-11-19    343.110\n",
       "2021-11-22    339.830\n",
       "2021-11-23    337.680\n",
       "\n",
       "[1233 rows x 1 columns]"
      ]
     },
     "execution_count": 4,
     "metadata": {},
     "output_type": "execute_result"
    }
   ],
   "source": [
    "closes_msft = data.iloc[:, [4]]\n",
    "closes_msft"
   ]
  },
  {
   "cell_type": "code",
   "execution_count": 5,
   "metadata": {},
   "outputs": [
    {
     "data": {
      "image/png": "[encoded data removed]",
      "text/plain": [
       "<Figure size 576x432 with 1 Axes>"
      ]
     },
     "metadata": {
      "needs_background": "light"
     },
     "output_type": "display_data"
    }
   ],
   "source": [
    "closes_msft.plot(figsize=(8,6));"
   ]
  },
  {
   "cell_type": "code",
   "execution_count": 6,
   "metadata": {},
   "outputs": [
    {
     "data": {
      "text/plain": [
       "Adj Close    337.68\n",
       "Name: 2021-11-23 00:00:00, dtype: float64"
      ]
     },
     "execution_count": 6,
     "metadata": {},
     "output_type": "execute_result"
    }
   ],
   "source": [
    "closes_msft.iloc[-1]"
   ]
  },
  {
   "cell_type": "code",
   "execution_count": 7,
   "metadata": {},
   "outputs": [
    {
     "data": {
      "text/html": [
       "<div>\n",
       "<style scoped>\n",
       "    .dataframe tbody tr th:only-of-type {\n",
       "        vertical-align: middle;\n",
       "    }\n",
       "\n",
       "    .dataframe tbody tr th {\n",
       "        vertical-align: top;\n",
       "    }\n",
       "\n",
       "    .dataframe thead th {\n",
       "        text-align: right;\n",
       "    }\n",
       "</style>\n",
       "<table border=\"1\" class=\"dataframe\">\n",
       "  <thead>\n",
       "    <tr style=\"text-align: right;\">\n",
       "      <th></th>\n",
       "      <th>Adj Close</th>\n",
       "    </tr>\n",
       "    <tr>\n",
       "      <th>Date</th>\n",
       "      <th></th>\n",
       "    </tr>\n",
       "  </thead>\n",
       "  <tbody>\n",
       "    <tr>\n",
       "      <th>2017-01-04</th>\n",
       "      <td>-4.484e-03</td>\n",
       "    </tr>\n",
       "    <tr>\n",
       "      <th>2017-01-05</th>\n",
       "      <td>0.000e+00</td>\n",
       "    </tr>\n",
       "    <tr>\n",
       "      <th>2017-01-06</th>\n",
       "      <td>8.630e-03</td>\n",
       "    </tr>\n",
       "    <tr>\n",
       "      <th>2017-01-09</th>\n",
       "      <td>-3.188e-03</td>\n",
       "    </tr>\n",
       "    <tr>\n",
       "      <th>2017-01-10</th>\n",
       "      <td>-3.193e-04</td>\n",
       "    </tr>\n",
       "    <tr>\n",
       "      <th>...</th>\n",
       "      <td>...</td>\n",
       "    </tr>\n",
       "    <tr>\n",
       "      <th>2021-11-17</th>\n",
       "      <td>6.784e-04</td>\n",
       "    </tr>\n",
       "    <tr>\n",
       "      <th>2021-11-18</th>\n",
       "      <td>6.320e-03</td>\n",
       "    </tr>\n",
       "    <tr>\n",
       "      <th>2021-11-19</th>\n",
       "      <td>5.377e-03</td>\n",
       "    </tr>\n",
       "    <tr>\n",
       "      <th>2021-11-22</th>\n",
       "      <td>-9.606e-03</td>\n",
       "    </tr>\n",
       "    <tr>\n",
       "      <th>2021-11-23</th>\n",
       "      <td>-6.347e-03</td>\n",
       "    </tr>\n",
       "  </tbody>\n",
       "</table>\n",
       "<p>1232 rows × 1 columns</p>\n",
       "</div>"
      ],
      "text/plain": [
       "            Adj Close\n",
       "Date                 \n",
       "2017-01-04 -4.484e-03\n",
       "2017-01-05  0.000e+00\n",
       "2017-01-06  8.630e-03\n",
       "2017-01-09 -3.188e-03\n",
       "2017-01-10 -3.193e-04\n",
       "...               ...\n",
       "2021-11-17  6.784e-04\n",
       "2021-11-18  6.320e-03\n",
       "2021-11-19  5.377e-03\n",
       "2021-11-22 -9.606e-03\n",
       "2021-11-23 -6.347e-03\n",
       "\n",
       "[1232 rows x 1 columns]"
      ]
     },
     "execution_count": 7,
     "metadata": {},
     "output_type": "execute_result"
    }
   ],
   "source": [
    "# Rendimientos\n",
    "ret_msft = calc_daily_ret(closes_msft)\n",
    "ret_msft"
   ]
  },
  {
   "cell_type": "code",
   "execution_count": 8,
   "metadata": {},
   "outputs": [
    {
     "data": {
      "image/png": "[encoded data removed]",
      "text/plain": [
       "<Figure size 576x432 with 1 Axes>"
      ]
     },
     "metadata": {
      "needs_background": "light"
     },
     "output_type": "display_data"
    }
   ],
   "source": [
    "ret_msft.plot(figsize=(8,6));"
   ]
  },
  {
   "cell_type": "markdown",
   "metadata": {},
   "source": [
    "> Tomamos una opción con fecha de expiración al 21 de enero 2022. El precio actual del activo es de 337.68, y al ver que va a la alsa tomaremos una opción con un strick price superior, 340: `MSFT220121C00340000`"
   ]
  },
  {
   "cell_type": "markdown",
   "metadata": {},
   "source": [
    "<img src='op.jpg'>"
   ]
  },
  {
   "cell_type": "markdown",
   "metadata": {},
   "source": [
    "### Simulación de Precios "
   ]
  },
  {
   "cell_type": "code",
   "execution_count": 9,
   "metadata": {},
   "outputs": [
    {
     "data": {
      "text/plain": [
       "(Adj Close    0.001\n",
       " dtype: float64,\n",
       " Adj Close    0.017\n",
       " dtype: float64,\n",
       " 5.833333333333333e-06)"
      ]
     },
     "execution_count": 9,
     "metadata": {},
     "output_type": "execute_result"
    }
   ],
   "source": [
    "mu = ret_msft.mean()\n",
    "sigma = ret_msft.std()\n",
    "r = 0.0021/360\n",
    "mu, sigma, r"
   ]
  },
  {
   "cell_type": "code",
   "execution_count": 11,
   "metadata": {},
   "outputs": [
    {
     "data": {
      "text/html": [
       "<div>\n",
       "<style scoped>\n",
       "    .dataframe tbody tr th:only-of-type {\n",
       "        vertical-align: middle;\n",
       "    }\n",
       "\n",
       "    .dataframe tbody tr th {\n",
       "        vertical-align: top;\n",
       "    }\n",
       "\n",
       "    .dataframe thead th {\n",
       "        text-align: right;\n",
       "    }\n",
       "</style>\n",
       "<table border=\"1\" class=\"dataframe\">\n",
       "  <thead>\n",
       "    <tr style=\"text-align: right;\">\n",
       "      <th></th>\n",
       "      <th>0</th>\n",
       "      <th>1</th>\n",
       "      <th>2</th>\n",
       "      <th>...</th>\n",
       "      <th>9997</th>\n",
       "      <th>9998</th>\n",
       "      <th>9999</th>\n",
       "    </tr>\n",
       "  </thead>\n",
       "  <tbody>\n",
       "    <tr>\n",
       "      <th>2021-11-26</th>\n",
       "      <td>337.680</td>\n",
       "      <td>337.680</td>\n",
       "      <td>337.680</td>\n",
       "      <td>...</td>\n",
       "      <td>337.680</td>\n",
       "      <td>337.680</td>\n",
       "      <td>337.680</td>\n",
       "    </tr>\n",
       "    <tr>\n",
       "      <th>2021-11-29</th>\n",
       "      <td>328.667</td>\n",
       "      <td>344.149</td>\n",
       "      <td>357.268</td>\n",
       "      <td>...</td>\n",
       "      <td>342.648</td>\n",
       "      <td>341.152</td>\n",
       "      <td>330.356</td>\n",
       "    </tr>\n",
       "    <tr>\n",
       "      <th>2021-11-30</th>\n",
       "      <td>332.369</td>\n",
       "      <td>348.689</td>\n",
       "      <td>364.719</td>\n",
       "      <td>...</td>\n",
       "      <td>342.096</td>\n",
       "      <td>332.530</td>\n",
       "      <td>322.746</td>\n",
       "    </tr>\n",
       "    <tr>\n",
       "      <th>2021-12-01</th>\n",
       "      <td>334.141</td>\n",
       "      <td>347.055</td>\n",
       "      <td>386.010</td>\n",
       "      <td>...</td>\n",
       "      <td>353.513</td>\n",
       "      <td>327.503</td>\n",
       "      <td>314.438</td>\n",
       "    </tr>\n",
       "    <tr>\n",
       "      <th>2021-12-02</th>\n",
       "      <td>330.096</td>\n",
       "      <td>345.607</td>\n",
       "      <td>391.170</td>\n",
       "      <td>...</td>\n",
       "      <td>335.633</td>\n",
       "      <td>332.195</td>\n",
       "      <td>305.525</td>\n",
       "    </tr>\n",
       "    <tr>\n",
       "      <th>...</th>\n",
       "      <td>...</td>\n",
       "      <td>...</td>\n",
       "      <td>...</td>\n",
       "      <td>...</td>\n",
       "      <td>...</td>\n",
       "      <td>...</td>\n",
       "      <td>...</td>\n",
       "    </tr>\n",
       "    <tr>\n",
       "      <th>2022-01-17</th>\n",
       "      <td>335.296</td>\n",
       "      <td>346.848</td>\n",
       "      <td>377.184</td>\n",
       "      <td>...</td>\n",
       "      <td>254.076</td>\n",
       "      <td>311.872</td>\n",
       "      <td>282.625</td>\n",
       "    </tr>\n",
       "    <tr>\n",
       "      <th>2022-01-18</th>\n",
       "      <td>333.106</td>\n",
       "      <td>349.377</td>\n",
       "      <td>368.125</td>\n",
       "      <td>...</td>\n",
       "      <td>256.527</td>\n",
       "      <td>310.762</td>\n",
       "      <td>278.895</td>\n",
       "    </tr>\n",
       "    <tr>\n",
       "      <th>2022-01-19</th>\n",
       "      <td>331.563</td>\n",
       "      <td>343.789</td>\n",
       "      <td>365.206</td>\n",
       "      <td>...</td>\n",
       "      <td>263.795</td>\n",
       "      <td>306.748</td>\n",
       "      <td>277.441</td>\n",
       "    </tr>\n",
       "    <tr>\n",
       "      <th>2022-01-20</th>\n",
       "      <td>326.855</td>\n",
       "      <td>346.556</td>\n",
       "      <td>359.799</td>\n",
       "      <td>...</td>\n",
       "      <td>268.073</td>\n",
       "      <td>307.598</td>\n",
       "      <td>278.428</td>\n",
       "    </tr>\n",
       "    <tr>\n",
       "      <th>2022-01-21</th>\n",
       "      <td>324.918</td>\n",
       "      <td>341.630</td>\n",
       "      <td>357.229</td>\n",
       "      <td>...</td>\n",
       "      <td>266.253</td>\n",
       "      <td>308.814</td>\n",
       "      <td>273.111</td>\n",
       "    </tr>\n",
       "  </tbody>\n",
       "</table>\n",
       "<p>41 rows × 10000 columns</p>\n",
       "</div>"
      ],
      "text/plain": [
       "               0        1        2     ...     9997     9998     9999\n",
       "2021-11-26  337.680  337.680  337.680  ...  337.680  337.680  337.680\n",
       "2021-11-29  328.667  344.149  357.268  ...  342.648  341.152  330.356\n",
       "2021-11-30  332.369  348.689  364.719  ...  342.096  332.530  322.746\n",
       "2021-12-01  334.141  347.055  386.010  ...  353.513  327.503  314.438\n",
       "2021-12-02  330.096  345.607  391.170  ...  335.633  332.195  305.525\n",
       "...             ...      ...      ...  ...      ...      ...      ...\n",
       "2022-01-17  335.296  346.848  377.184  ...  254.076  311.872  282.625\n",
       "2022-01-18  333.106  349.377  368.125  ...  256.527  310.762  278.895\n",
       "2022-01-19  331.563  343.789  365.206  ...  263.795  306.748  277.441\n",
       "2022-01-20  326.855  346.556  359.799  ...  268.073  307.598  278.428\n",
       "2022-01-21  324.918  341.630  357.229  ...  266.253  308.814  273.111\n",
       "\n",
       "[41 rows x 10000 columns]"
      ]
     },
     "execution_count": 11,
     "metadata": {},
     "output_type": "execute_result"
    }
   ],
   "source": [
    "from datetime import date\n",
    "# Datos de la opción y del día de actual\n",
    "today = pd.Timestamp(date.today())\n",
    "expiry = '2022-01-21'\n",
    "\n",
    "# Fechas desde el día de hoy hasta la fecha de cierre del contrato (considerando unicamente los días hábiles)\n",
    "dates = pd.date_range(start=today, end=expiry, freq='B')\n",
    "\n",
    "# Cantidad de escenarios a simular para el método de montecarlo\n",
    "ndays = len(dates)\n",
    "nscen = 10000\n",
    "\n",
    "K = 340\n",
    "S0 = 337.68\n",
    "sim_ret = pd.DataFrame(0.017*np.random.randn(ndays,nscen)+r,index=dates)\n",
    "sim_closes = 337.68*np.exp(sim_ret.cumsum())\n",
    "sim_closes.iloc[0,:] = S0\n",
    "sim_closes"
   ]
  },
  {
   "cell_type": "markdown",
   "metadata": {},
   "source": [
    "### Valuación de la opción (Europea)"
   ]
  },
  {
   "cell_type": "code",
   "execution_count": 12,
   "metadata": {},
   "outputs": [
    {
     "data": {
      "image/png": "[encoded data removed]",
      "text/plain": [
       "<Figure size 432x288 with 1 Axes>"
      ]
     },
     "metadata": {
      "needs_background": "light"
     },
     "output_type": "display_data"
    }
   ],
   "source": [
    "strike = K\n",
    "call = pd.DataFrame({'Prima':np.exp(-r*ndays)*np.fmax(sim_closes - strike, 0).mean(axis=1)}, index=dates)\n",
    "call.plot();"
   ]
  },
  {
   "cell_type": "code",
   "execution_count": 13,
   "metadata": {},
   "outputs": [
    {
     "data": {
      "text/plain": [
       "Prima    14.392\n",
       "Name: 2022-01-21 00:00:00, dtype: float64"
      ]
     },
     "execution_count": 13,
     "metadata": {},
     "output_type": "execute_result"
    }
   ],
   "source": [
    "call.iloc[-1]"
   ]
  },
  {
   "cell_type": "code",
   "execution_count": 14,
   "metadata": {},
   "outputs": [
    {
     "name": "stdout",
     "output_type": "stream",
     "text": [
      "(13.674398768521405, 15.108968298277533)\n"
     ]
    }
   ],
   "source": [
    "# intervalo de confianza\n",
    "confianza = 0.95\n",
    "sigma_est = sim_closes.iloc[-1].sem()\n",
    "mean_est = call.iloc[-1].Prima\n",
    "# i1 = st.t.interval(confianza,nscen-1, loc=mean_est, scale=sigma_est)\n",
    "i2 = st.norm.interval(confianza, loc=mean_est, scale=sigma_est)\n",
    "print(i2)"
   ]
  },
  {
   "cell_type": "markdown",
   "metadata": {},
   "source": [
    "### Histograma de Rendimientos "
   ]
  },
  {
   "cell_type": "code",
   "execution_count": 15,
   "metadata": {},
   "outputs": [],
   "source": [
    "# Centro mis datos en mi tasa libre de riesgo\n",
    "freq, values = np.histogram(ret_msft-mu+r, bins=10000)\n",
    "# freq = freq.astype('float32')\n",
    "prob = freq/np.sum(freq)"
   ]
  },
  {
   "cell_type": "code",
   "execution_count": 16,
   "metadata": {},
   "outputs": [],
   "source": [
    "# Datos de la opción y del día de actual\n",
    "today = pd.Timestamp(date.today())\n",
    "\n",
    "# Fechas desde el día de hoy hasta la fecha de cierre del contrato (considerando unicamente los días hábiles)\n",
    "dates = pd.date_range(start=today, end=expiry, freq='B')\n",
    "\n",
    "# Cantidad de escenarios a simular para el método de montecarlo\n",
    "ndays = len(dates)\n",
    "nscen = 10000\n",
    "\n",
    "ret = np.random.choice(values[1:], (ndays,nscen), p=prob)\n",
    "sim_ret_hist = pd.DataFrame(ret, index=dates)\n",
    "sim_closes_hist = S0*np.exp(sim_ret_hist.cumsum())\n",
    "sim_closes_hist.iloc[0,:] = S0"
   ]
  },
  {
   "cell_type": "code",
   "execution_count": 17,
   "metadata": {},
   "outputs": [
    {
     "data": {
      "image/png": "[encoded data removed]",
      "text/plain": [
       "<Figure size 432x288 with 1 Axes>"
      ]
     },
     "metadata": {
      "needs_background": "light"
     },
     "output_type": "display_data"
    }
   ],
   "source": [
    "strike = pd.DataFrame(K*np.ones([ndays,nscen]),index=dates)\n",
    "call_hist=pd.DataFrame({'Prima':np.exp(-r*ndays)*np.fmax(sim_closes_hist-strike,np.zeros([ndays,nscen])).T.mean()},index=dates)\n",
    "call_hist.plot();"
   ]
  },
  {
   "cell_type": "code",
   "execution_count": 18,
   "metadata": {},
   "outputs": [
    {
     "data": {
      "text/plain": [
       "Prima    14.705\n",
       "Name: 2022-01-21 00:00:00, dtype: float64"
      ]
     },
     "execution_count": 18,
     "metadata": {},
     "output_type": "execute_result"
    }
   ],
   "source": [
    "call_hist.iloc[-1]"
   ]
  },
  {
   "cell_type": "code",
   "execution_count": 19,
   "metadata": {},
   "outputs": [
    {
     "name": "stdout",
     "output_type": "stream",
     "text": [
      "(13.965908781991855, 15.444540682953539)\n"
     ]
    }
   ],
   "source": [
    "# intervalo de confianza\n",
    "confianza = 0.95\n",
    "sigma_est = sim_closes_hist.iloc[-1].sem()\n",
    "mean_est = call_hist.iloc[-1].Prima\n",
    "# i1 = st.t.interval(confianza,nscen-1, loc=mean_est, scale=sigma_est)\n",
    "i2 = st.norm.interval(confianza, loc=mean_est, scale=sigma_est)\n",
    "print(i2)"
   ]
  },
  {
   "cell_type": "markdown",
   "metadata": {},
   "source": [
    "> El valor real de la opción que estamos valuando se encuentra muy cerca del intervalo de confianza, por lo que los resultado obtenidos son muy confiables."
   ]
  },
  {
   "cell_type": "markdown",
   "metadata": {},
   "source": [
    "### Valuación de metodo `down and out & up and out`"
   ]
  },
  {
   "cell_type": "code",
   "execution_count": 25,
   "metadata": {},
   "outputs": [
    {
     "data": {
      "image/png": "[encoded data removed]",
      "text/plain": [
       "<Figure size 432x288 with 1 Axes>"
      ]
     },
     "metadata": {
      "needs_background": "light"
     },
     "output_type": "display_data"
    },
    {
     "data": {
      "image/png": "[encoded data removed]",
      "text/plain": [
       "<Figure size 432x288 with 1 Axes>"
      ]
     },
     "metadata": {
      "needs_background": "light"
     },
     "output_type": "display_data"
    }
   ],
   "source": [
    "S0 = 337.68\n",
    "expiry = '2022-01-21'\n",
    "bu = 345 #put \n",
    "bd = 320 #call\n",
    "mu = 0.001\n",
    "sigma = 0.017\n",
    "opciones_barrera(S0, K, mu, sigma, expiry, bu=bu, bd=bd)"
   ]
  },
  {
   "cell_type": "code",
   "execution_count": 27,
   "metadata": {},
   "outputs": [
    {
     "data": {
      "image/png": "[encoded data removed]",
      "text/plain": [
       "<Figure size 432x288 with 1 Axes>"
      ]
     },
     "metadata": {
      "needs_background": "light"
     },
     "output_type": "display_data"
    },
    {
     "data": {
      "image/png": "[encoded data removed]",
      "text/plain": [
       "<Figure size 432x288 with 1 Axes>"
      ]
     },
     "metadata": {
      "needs_background": "light"
     },
     "output_type": "display_data"
    }
   ],
   "source": [
    "s0 = 337.68\n",
    "mu = 0.001\n",
    "sigma = 0.017\n",
    "bu = 345 #put\n",
    "bd = 320 #call \n",
    "opciones_barrera(S0, 330, mu, sigma, expiry, bu=bu, bd=bd)"
   ]
  },
  {
   "cell_type": "markdown",
   "metadata": {},
   "source": [
    "> La opción `barrera call` seria muy buena alternativa al buscar comprar acciones de Microsoft porque logra abaratar el precio de la prima. \n",
    "\n",
    "> La opción `barrera put` facilitaría una ganancia en caso de necesitar vender dicha accion."
   ]
  }
 ],
 "metadata": {
  "kernelspec": {
   "display_name": "Python 3",
   "language": "python",
   "name": "python3"
  },
  "language_info": {
   "codemirror_mode": {
    "name": "ipython",
    "version": 3
   },
   "file_extension": ".py",
   "mimetype": "text/x-python",
   "name": "python",
   "nbconvert_exporter": "python",
   "pygments_lexer": "ipython3",
   "version": "3.8.3"
  }
 },
 "nbformat": 4,
 "nbformat_minor": 5
}
